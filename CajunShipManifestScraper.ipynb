{
 "cells": [
  {
   "cell_type": "markdown",
   "metadata": {},
   "source": [
    "# Cajun Names / Name Bottlenecks\n",
    "\n",
    "Scrape the passenger manifesto from each of the 'Seven Ships of 1785' that delivered Cajuns in exile to southern Louisiana. This scrapes only the last names of males, which are conveniently in all caps and surrounded by 'p' tags in html. "
   ]
  },
  {
   "cell_type": "code",
   "execution_count": 3,
   "metadata": {},
   "outputs": [
    {
     "name": "stdout",
     "output_type": "stream",
     "text": [
      "['HENRY,', 'RICHARD,', 'LAVERGNE,', 'GRANGER,', 'GRANGER,', 'TRAHAN', 'GUEDRY,', 'COMEAUX,', 'HEBERT,', 'DOIRON,', 'BENOIT,', 'HEBERT', 'MARTIN,', 'COURTIN', 'POIRIER,', 'DOIRON,', 'DAIGLE,', 'HARBOURG,', 'TRAHAN', 'DOIRON,', 'LALANDE', 'LAGARENNE,', 'DOIRON,', 'HEBERT,', 'DAIGLE,', 'LEBLANC,', 'DE', 'GUEDRY,', 'LEBLANC,', 'LEBLANC,', 'GUEDRY,', 'GUEDRY,', 'BRAUD,', 'TRAHAN,', 'BOUDROT,', 'MOULAISON,', 'GUEDRY,', 'LEBLANC,', 'DUBOIS,', 'DAIGLE', 'BOURG,', 'FOREST,', 'GRANGER,', 'DAIGLE,', 'CAILLOUET,', 'DUGAS,', 'VINCENT,', 'DUON,', 'RICHARD,', 'GRANGER,', 'HENRY,', 'MONTREAL,', 'GARCIA', 'COURTIN,', 'LEBLANC,', 'TRAHAN', 'COSTA', 'TRAHAN,', 'BETANCOURT', 'GUEDRY', 'GUEDRY,']\n"
     ]
    }
   ],
   "source": [
    "from bs4 import BeautifulSoup\n",
    "import pandas as pd\n",
    "import requests\n",
    "import re\n",
    "resp = requests.get('http://www.acadian-cajun.com/ship3.htm')\n",
    "txt = resp.text\n",
    "soup = BeautifulSoup(txt, 'lxml')\n",
    "\n",
    "#entries are index 1-51:\n",
    "\n",
    "name_list = []\n",
    "\n",
    "#list of names:\n",
    "\n",
    "for i in range(1,len(soup.find_all('p'))):\n",
    "    name_list.append(soup.find_all('p')[i].text)\n",
    "name_df = pd.DataFrame(name_list)\n",
    "name_df.head()\n",
    "\n",
    "#generate split strings from which to extract last names:\n",
    "str_test = str(name_df.iloc[50])\n",
    "str_split = str_test.split(' ')\n",
    "\n",
    "#empty list to hold last names:\n",
    "last_name = []    \n",
    "\n",
    "#for all entries in list, generate split strings:\n",
    "for j in range(1,len(name_df)):\n",
    "    str_tester = str(name_df.iloc[j])\n",
    "    str_splits = str_tester.split(' ')\n",
    "#for each word in the string, append to list if it is uppercase and only composed of letters:\n",
    "    for i in str_splits:\n",
    "        if i.upper() == i:\n",
    "            if i[:-1].isalpha() == True:                \n",
    "                last_name.append(i)\n",
    "            \n",
    "print(last_name)"
   ]
  }
 ],
 "metadata": {
  "kernelspec": {
   "display_name": "Python 3",
   "language": "python",
   "name": "python3"
  },
  "language_info": {
   "codemirror_mode": {
    "name": "ipython",
    "version": 3
   },
   "file_extension": ".py",
   "mimetype": "text/x-python",
   "name": "python",
   "nbconvert_exporter": "python",
   "pygments_lexer": "ipython3",
   "version": "3.6.4"
  }
 },
 "nbformat": 4,
 "nbformat_minor": 2
}
